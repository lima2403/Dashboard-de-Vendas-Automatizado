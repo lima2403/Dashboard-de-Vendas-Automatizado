{
  "nbformat": 4,
  "nbformat_minor": 0,
  "metadata": {
    "colab": {
      "provenance": [],
      "authorship_tag": "ABX9TyO9q+bf/RdS28QHQb4/lZ71",
      "include_colab_link": true
    },
    "kernelspec": {
      "name": "python3",
      "display_name": "Python 3"
    },
    "language_info": {
      "name": "python"
    }
  },
  "cells": [
    {
      "cell_type": "markdown",
      "metadata": {
        "id": "view-in-github",
        "colab_type": "text"
      },
      "source": [
        "<a href=\"https://colab.research.google.com/github/lima2403/Analise-Exploratoria-com-Python/blob/main/Simulador_de_Dados_de_Venda.ipynb\" target=\"_parent\"><img src=\"https://colab.research.google.com/assets/colab-badge.svg\" alt=\"Open In Colab\"/></a>"
      ]
    },
    {
      "cell_type": "code",
      "source": [
        "   pip install faker"
      ],
      "metadata": {
        "colab": {
          "base_uri": "https://localhost:8080/"
        },
        "id": "UuEq-859s63e",
        "outputId": "d26c8688-c533-433d-fada-4f1c10c29353"
      },
      "execution_count": null,
      "outputs": [
        {
          "output_type": "stream",
          "name": "stdout",
          "text": [
            "Collecting faker\n",
            "  Downloading Faker-33.0.0-py3-none-any.whl.metadata (15 kB)\n",
            "Requirement already satisfied: python-dateutil>=2.4 in /usr/local/lib/python3.10/dist-packages (from faker) (2.8.2)\n",
            "Requirement already satisfied: typing-extensions in /usr/local/lib/python3.10/dist-packages (from faker) (4.12.2)\n",
            "Requirement already satisfied: six>=1.5 in /usr/local/lib/python3.10/dist-packages (from python-dateutil>=2.4->faker) (1.16.0)\n",
            "Downloading Faker-33.0.0-py3-none-any.whl (1.9 MB)\n",
            "\u001b[?25l   \u001b[90m━━━━━━━━━━━━━━━━━━━━━━━━━━━━━━━━━━━━━━━━\u001b[0m \u001b[32m0.0/1.9 MB\u001b[0m \u001b[31m?\u001b[0m eta \u001b[36m-:--:--\u001b[0m\r\u001b[2K   \u001b[91m━━━━\u001b[0m\u001b[90m╺\u001b[0m\u001b[90m━━━━━━━━━━━━━━━━━━━━━━━━━━━━━━━━━━━\u001b[0m \u001b[32m0.2/1.9 MB\u001b[0m \u001b[31m7.1 MB/s\u001b[0m eta \u001b[36m0:00:01\u001b[0m\r\u001b[2K   \u001b[91m━━━━━━━━━━━━━━━━━━━━━━━━━━━\u001b[0m\u001b[91m╸\u001b[0m\u001b[90m━━━━━━━━━━━━\u001b[0m \u001b[32m1.3/1.9 MB\u001b[0m \u001b[31m19.5 MB/s\u001b[0m eta \u001b[36m0:00:01\u001b[0m\r\u001b[2K   \u001b[91m━━━━━━━━━━━━━━━━━━━━━━━━━━━━━━━━━━━━━━━\u001b[0m\u001b[91m╸\u001b[0m \u001b[32m1.9/1.9 MB\u001b[0m \u001b[31m23.0 MB/s\u001b[0m eta \u001b[36m0:00:01\u001b[0m\r\u001b[2K   \u001b[90m━━━━━━━━━━━━━━━━━━━━━━━━━━━━━━━━━━━━━━━━\u001b[0m \u001b[32m1.9/1.9 MB\u001b[0m \u001b[31m14.2 MB/s\u001b[0m eta \u001b[36m0:00:00\u001b[0m\n",
            "\u001b[?25hInstalling collected packages: faker\n",
            "Successfully installed faker-33.0.0\n"
          ]
        }
      ]
    },
    {
      "cell_type": "code",
      "execution_count": null,
      "metadata": {
        "colab": {
          "base_uri": "https://localhost:8080/"
        },
        "id": "s3zFaeTuNeKx",
        "outputId": "44e07a47-4d86-4b6c-94e9-2a45dc6eb733"
      },
      "outputs": [
        {
          "output_type": "stream",
          "name": "stdout",
          "text": [
            "Arquivo CSV 'dados_vendas.csv' criado com sucesso.\n"
          ]
        }
      ],
      "source": [
        "from faker import Faker\n",
        "import random\n",
        "import pandas as pd\n",
        "\n",
        "# Configuração do Faker\n",
        "fake = Faker()\n",
        "Faker.seed(0)\n",
        "\n",
        "# Função para gerar dados de vendas\n",
        "def gerar_dados_vendas(num_registros):\n",
        "    dados = []\n",
        "    tipos_produtos = [\n",
        "        \"Eletrônicos\", \"Roupas\", \"Alimentos\", \"Livros\", \"Móveis\",\n",
        "        \"Beleza\", \"Esporte\", \"Brinquedos\", \"Ferramentas\", \"Papelaria\"\n",
        "    ]\n",
        "    produtos = {\n",
        "        \"Eletrônicos\": [\"Smartphone\", \"Notebook\", \"Tablet\", \"Smartwatch\", \"TV\", \"Fone de ouvido\", \"Câmera\", \"Carregador portátil\"],\n",
        "        \"Roupas\": [\"Camisa\", \"Calça\", \"Vestido\", \"Casaco\", \"Blusa\", \"Jaqueta\", \"Suéter\", \"Saia\", \"Meias\", \"Tênis\"],\n",
        "        \"Alimentos\": [\"Pizza\", \"Chocolate\", \"Refrigerante\", \"Batata frita\", \"Sorvete\", \"Café\", \"Sanduíche\", \"Frutas\", \"Pão\", \"Suco\"],\n",
        "        \"Livros\": [\"Romance\", \"Ficção Científica\", \"História\", \"Poesia\", \"Biografia\", \"Autoajuda\", \"Contos\", \"Infantil\", \"Didático\", \"HQ\"],\n",
        "        \"Móveis\": [\"Cadeira\", \"Mesa\", \"Estante\", \"Cama\", \"Sofá\", \"Guarda-roupa\", \"Poltrona\", \"Escrivaninha\", \"Rack\", \"Cristaleira\"],\n",
        "        \"Beleza\": [\"Shampoo\", \"Condicionador\", \"Perfume\", \"Maquiagem\", \"Creme Hidratante\", \"Sabonete\", \"Protetor Solar\", \"Desodorante\"],\n",
        "        \"Esporte\": [\"Bola de Futebol\", \"Bicicleta\", \"Patins\", \"Raquete de Tênis\", \"Capacete\", \"Luvas de Boxe\", \"Esteira\", \"Pesos\"],\n",
        "        \"Brinquedos\": [\"Boneca\", \"Carrinho\", \"Lego\", \"Jogo de tabuleiro\", \"Pelúcia\", \"Quebra-cabeça\", \"Bola\", \"Pião\"],\n",
        "        \"Ferramentas\": [\"Martelo\", \"Chave de fenda\", \"Alicate\", \"Furadeira\", \"Serra elétrica\", \"Parafuso\", \"Trena\", \"Nível\"],\n",
        "        \"Papelaria\": [\"Caneta\", \"Lápis\", \"Caderno\", \"Borracha\", \"Marcador\", \"Papel Sulfite\", \"Pasta\", \"Estilete\"]\n",
        "    }\n",
        "\n",
        "    # Definindo faixa de preços para cada tipo de produto\n",
        "    faixa_precos = {\n",
        "        \"Eletrônicos\": (100, 2000),\n",
        "        \"Roupas\": (10, 200),\n",
        "        \"Alimentos\": (5, 100),\n",
        "        \"Livros\": (15, 150),\n",
        "        \"Móveis\": (200, 3000),\n",
        "        \"Beleza\": (10, 300),\n",
        "        \"Esporte\": (20, 500),\n",
        "        \"Brinquedos\": (50, 500),\n",
        "        \"Ferramentas\": (30, 1000),\n",
        "        \"Papelaria\": (2, 50)\n",
        "    }\n",
        "\n",
        "    for i in range(1, num_registros + 1):  # Incrementa ID de Venda\n",
        "        tipo_produto = random.choice(tipos_produtos)\n",
        "        produto = random.choice(produtos[tipo_produto])\n",
        "\n",
        "        # Seleciona o preço dentro da faixa definida para o tipo de produto\n",
        "        preco_min, preco_max = faixa_precos[tipo_produto]\n",
        "        valor_venda = round(random.uniform(preco_min, preco_max), 2)\n",
        "\n",
        "        dados.append({\n",
        "            \"Nome Cliente\": fake.name(),\n",
        "            \"Email\": fake.email(),\n",
        "            \"Gênero\": random.choice([\"Masculino\", \"Feminino\"]),\n",
        "\n",
        "            \"Estado\": fake.state(),\n",
        "            \"Data da Venda\": fake.date_this_year(),\n",
        "            \"Produto\": produto,\n",
        "            \"Tipo de Produto\": tipo_produto,\n",
        "            \"Valor Venda\": valor_venda\n",
        "        })\n",
        "\n",
        "    return pd.DataFrame(dados)\n",
        "\n",
        "# Gerando 100 registros de vendas\n",
        "df_vendas = gerar_dados_vendas(115)\n",
        "\n",
        "# Salvando os dados em um arquivo CSV\n",
        "df_vendas.to_csv(\"dados_vendas.csv\", index=False)\n",
        "\n",
        "print(\"Arquivo CSV 'dados_vendas.csv' criado com sucesso.\")\n"
      ]
    },
    {
      "cell_type": "code",
      "source": [
        "!pip install google-cloud-bigquery"
      ],
      "metadata": {
        "id": "O7_zyUY0erCn",
        "colab": {
          "base_uri": "https://localhost:8080/"
        },
        "outputId": "872f47ee-fe44-476d-9118-e4e8e5311770"
      },
      "execution_count": null,
      "outputs": [
        {
          "output_type": "stream",
          "name": "stdout",
          "text": [
            "Requirement already satisfied: google-cloud-bigquery in /usr/local/lib/python3.10/dist-packages (3.25.0)\n",
            "Requirement already satisfied: google-api-core!=2.0.*,!=2.1.*,!=2.10.*,!=2.2.*,!=2.3.*,!=2.4.*,!=2.5.*,!=2.6.*,!=2.7.*,!=2.8.*,!=2.9.*,<3.0.0dev,>=1.34.1 in /usr/local/lib/python3.10/dist-packages (from google-api-core[grpc]!=2.0.*,!=2.1.*,!=2.10.*,!=2.2.*,!=2.3.*,!=2.4.*,!=2.5.*,!=2.6.*,!=2.7.*,!=2.8.*,!=2.9.*,<3.0.0dev,>=1.34.1->google-cloud-bigquery) (2.19.2)\n",
            "Requirement already satisfied: google-auth<3.0.0dev,>=2.14.1 in /usr/local/lib/python3.10/dist-packages (from google-cloud-bigquery) (2.27.0)\n",
            "Requirement already satisfied: google-cloud-core<3.0.0dev,>=1.6.0 in /usr/local/lib/python3.10/dist-packages (from google-cloud-bigquery) (2.4.1)\n",
            "Requirement already satisfied: google-resumable-media<3.0dev,>=0.6.0 in /usr/local/lib/python3.10/dist-packages (from google-cloud-bigquery) (2.7.2)\n",
            "Requirement already satisfied: packaging>=20.0.0 in /usr/local/lib/python3.10/dist-packages (from google-cloud-bigquery) (24.2)\n",
            "Requirement already satisfied: python-dateutil<3.0dev,>=2.7.2 in /usr/local/lib/python3.10/dist-packages (from google-cloud-bigquery) (2.8.2)\n",
            "Requirement already satisfied: requests<3.0.0dev,>=2.21.0 in /usr/local/lib/python3.10/dist-packages (from google-cloud-bigquery) (2.32.3)\n",
            "Requirement already satisfied: googleapis-common-protos<2.0.dev0,>=1.56.2 in /usr/local/lib/python3.10/dist-packages (from google-api-core!=2.0.*,!=2.1.*,!=2.10.*,!=2.2.*,!=2.3.*,!=2.4.*,!=2.5.*,!=2.6.*,!=2.7.*,!=2.8.*,!=2.9.*,<3.0.0dev,>=1.34.1->google-api-core[grpc]!=2.0.*,!=2.1.*,!=2.10.*,!=2.2.*,!=2.3.*,!=2.4.*,!=2.5.*,!=2.6.*,!=2.7.*,!=2.8.*,!=2.9.*,<3.0.0dev,>=1.34.1->google-cloud-bigquery) (1.66.0)\n",
            "Requirement already satisfied: protobuf!=3.20.0,!=3.20.1,!=4.21.0,!=4.21.1,!=4.21.2,!=4.21.3,!=4.21.4,!=4.21.5,<6.0.0.dev0,>=3.19.5 in /usr/local/lib/python3.10/dist-packages (from google-api-core!=2.0.*,!=2.1.*,!=2.10.*,!=2.2.*,!=2.3.*,!=2.4.*,!=2.5.*,!=2.6.*,!=2.7.*,!=2.8.*,!=2.9.*,<3.0.0dev,>=1.34.1->google-api-core[grpc]!=2.0.*,!=2.1.*,!=2.10.*,!=2.2.*,!=2.3.*,!=2.4.*,!=2.5.*,!=2.6.*,!=2.7.*,!=2.8.*,!=2.9.*,<3.0.0dev,>=1.34.1->google-cloud-bigquery) (4.25.5)\n",
            "Requirement already satisfied: proto-plus<2.0.0dev,>=1.22.3 in /usr/local/lib/python3.10/dist-packages (from google-api-core!=2.0.*,!=2.1.*,!=2.10.*,!=2.2.*,!=2.3.*,!=2.4.*,!=2.5.*,!=2.6.*,!=2.7.*,!=2.8.*,!=2.9.*,<3.0.0dev,>=1.34.1->google-api-core[grpc]!=2.0.*,!=2.1.*,!=2.10.*,!=2.2.*,!=2.3.*,!=2.4.*,!=2.5.*,!=2.6.*,!=2.7.*,!=2.8.*,!=2.9.*,<3.0.0dev,>=1.34.1->google-cloud-bigquery) (1.25.0)\n",
            "Requirement already satisfied: grpcio<2.0dev,>=1.33.2 in /usr/local/lib/python3.10/dist-packages (from google-api-core[grpc]!=2.0.*,!=2.1.*,!=2.10.*,!=2.2.*,!=2.3.*,!=2.4.*,!=2.5.*,!=2.6.*,!=2.7.*,!=2.8.*,!=2.9.*,<3.0.0dev,>=1.34.1->google-cloud-bigquery) (1.68.0)\n",
            "Requirement already satisfied: grpcio-status<2.0.dev0,>=1.33.2 in /usr/local/lib/python3.10/dist-packages (from google-api-core[grpc]!=2.0.*,!=2.1.*,!=2.10.*,!=2.2.*,!=2.3.*,!=2.4.*,!=2.5.*,!=2.6.*,!=2.7.*,!=2.8.*,!=2.9.*,<3.0.0dev,>=1.34.1->google-cloud-bigquery) (1.62.3)\n",
            "Requirement already satisfied: cachetools<6.0,>=2.0.0 in /usr/local/lib/python3.10/dist-packages (from google-auth<3.0.0dev,>=2.14.1->google-cloud-bigquery) (5.5.0)\n",
            "Requirement already satisfied: pyasn1-modules>=0.2.1 in /usr/local/lib/python3.10/dist-packages (from google-auth<3.0.0dev,>=2.14.1->google-cloud-bigquery) (0.4.1)\n",
            "Requirement already satisfied: rsa<5,>=3.1.4 in /usr/local/lib/python3.10/dist-packages (from google-auth<3.0.0dev,>=2.14.1->google-cloud-bigquery) (4.9)\n",
            "Requirement already satisfied: google-crc32c<2.0dev,>=1.0 in /usr/local/lib/python3.10/dist-packages (from google-resumable-media<3.0dev,>=0.6.0->google-cloud-bigquery) (1.6.0)\n",
            "Requirement already satisfied: six>=1.5 in /usr/local/lib/python3.10/dist-packages (from python-dateutil<3.0dev,>=2.7.2->google-cloud-bigquery) (1.16.0)\n",
            "Requirement already satisfied: charset-normalizer<4,>=2 in /usr/local/lib/python3.10/dist-packages (from requests<3.0.0dev,>=2.21.0->google-cloud-bigquery) (3.4.0)\n",
            "Requirement already satisfied: idna<4,>=2.5 in /usr/local/lib/python3.10/dist-packages (from requests<3.0.0dev,>=2.21.0->google-cloud-bigquery) (3.10)\n",
            "Requirement already satisfied: urllib3<3,>=1.21.1 in /usr/local/lib/python3.10/dist-packages (from requests<3.0.0dev,>=2.21.0->google-cloud-bigquery) (2.2.3)\n",
            "Requirement already satisfied: certifi>=2017.4.17 in /usr/local/lib/python3.10/dist-packages (from requests<3.0.0dev,>=2.21.0->google-cloud-bigquery) (2024.8.30)\n",
            "Requirement already satisfied: pyasn1<0.7.0,>=0.4.6 in /usr/local/lib/python3.10/dist-packages (from pyasn1-modules>=0.2.1->google-auth<3.0.0dev,>=2.14.1->google-cloud-bigquery) (0.6.1)\n"
          ]
        }
      ]
    },
    {
      "cell_type": "code",
      "source": [
        "from google.cloud import bigquery"
      ],
      "metadata": {
        "id": "1DQU-Krsesu-"
      },
      "execution_count": null,
      "outputs": []
    },
    {
      "cell_type": "code",
      "source": [
        "import os\n",
        "os.environ['GOOGLE_APPLICATION_CREDENTIALS']= '/content/automacaodadosvendas-0441ba35774a.json'\n",
        "dataset_id = 'Projeto_Vendas'\n",
        "table_id = 'Dados_Venda'"
      ],
      "metadata": {
        "id": "AfUBGAA8euE4"
      },
      "execution_count": null,
      "outputs": []
    },
    {
      "cell_type": "code",
      "source": [
        "client = bigquery.Client()"
      ],
      "metadata": {
        "id": "GnoCmrKVmgI8"
      },
      "execution_count": null,
      "outputs": []
    },
    {
      "cell_type": "code",
      "source": [
        "# Substitua pelo caminho do seu arquivo CSV\n",
        "dataset_id = 'Projeto_Vendas'\n",
        "table_id = 'Dados_Venda'\n",
        "table_ref = client.dataset(dataset_id).table(table_id)\n",
        "\n",
        "job_config = bigquery.LoadJobConfig(\n",
        "    source_format=bigquery.SourceFormat.CSV,\n",
        "    skip_leading_rows=1,  # Se tiver um cabeçalho\n",
        "    autodetect=True  # Deixa o BigQuery inferir os tipos de dados\n",
        ")\n",
        "\n",
        "with open('dados_vendas.csv', 'rb') as source_file:\n",
        "    job = client.load_table_from_file(source_file, table_ref, job_config=job_config)\n",
        "\n",
        "job.result()  # Aguarda a conclusão do job 1"
      ],
      "metadata": {
        "id": "wwmz7ZK9mkoe",
        "colab": {
          "base_uri": "https://localhost:8080/"
        },
        "outputId": "dbd28a87-d8b6-447c-97bb-f640d4540427"
      },
      "execution_count": null,
      "outputs": [
        {
          "output_type": "execute_result",
          "data": {
            "text/plain": [
              "LoadJob<project=automacaodadosvendas, location=southamerica-east1, id=6241649b-bcaa-4b12-a9f0-638fcd0edcea>"
            ]
          },
          "metadata": {},
          "execution_count": 11
        }
      ]
    },
    {
      "cell_type": "code",
      "source": [
        "from google.cloud import bigquery\n",
        "\n",
        "# Substitua pelas suas credenciais e informações da tabela\n",
        "os.environ[\"GOOGLE_APPLICATION_CREDENTIALS\"] = \"/content/automacaodadosvendas-db1fa9f335b2.json\"\n",
        "dataset_id = 'Projeto_Vendas'\n",
        "table_id = 'Dados_Venda'\n",
        "\n",
        "# Conectando ao BigQuery\n",
        "client = bigquery.Client()\n",
        "\n",
        "# Definindo a referência da tabela\n",
        "table_ref = client.dataset(dataset_id).table(table_id)\n",
        "\n",
        "# Query SQL para deletar todas as linhas\n",
        "query = f\"DELETE FROM `{dataset_id}.{table_id}` WHERE 1=1\"\n",
        "\n",
        "# Executando a consulta\n",
        "query_job = client.query(query)\n",
        "query_job.result()  # Aguarda a conclusão da consulta\n",
        "\n",
        "print(\"Todas as linhas foram deletadas da tabela!\")"
      ],
      "metadata": {
        "id": "RtQhsEzXmm3s",
        "colab": {
          "base_uri": "https://localhost:8080/"
        },
        "outputId": "30dbde83-7117-4ec5-aa57-db5849f12f18"
      },
      "execution_count": null,
      "outputs": [
        {
          "output_type": "stream",
          "name": "stdout",
          "text": [
            "Todas as linhas foram deletadas da tabela!\n"
          ]
        }
      ]
    },
    {
      "cell_type": "code",
      "source": [
        "import pandas as pd\n",
        "\n",
        "# Dados organizados em um dicionário\n",
        "regions = {\n",
        "    \"Northeast\": [\n",
        "        \"Connecticut\", \"Maine\", \"Massachusetts\", \"New Hampshire\", \"Rhode Island\",\n",
        "        \"Vermont\", \"New Jersey\", \"New York\", \"Pennsylvania\"\n",
        "    ],\n",
        "    \"Midwest\": [\n",
        "        \"Illinois\", \"Indiana\", \"Iowa\", \"Kansas\", \"Michigan\",\n",
        "        \"Minnesota\", \"Missouri\", \"Nebraska\", \"North Dakota\",\n",
        "        \"Ohio\", \"South Dakota\", \"Wisconsin\"\n",
        "    ],\n",
        "    \"South\": [\n",
        "        \"Alabama\", \"Arkansas\", \"Delaware\", \"Florida\", \"Georgia\",\n",
        "        \"Kentucky\", \"Louisiana\", \"Maryland\", \"Mississippi\",\n",
        "        \"North Carolina\", \"Oklahoma\", \"South Carolina\", \"Tennessee\",\n",
        "        \"Texas\", \"Virginia\", \"West Virginia\"\n",
        "    ],\n",
        "    \"West\": [\n",
        "        \"Alaska\", \"Arizona\", \"California\", \"Colorado\", \"Hawaii\",\n",
        "        \"Idaho\", \"Montana\", \"Nevada\", \"New Mexico\",\n",
        "        \"Oregon\", \"Utah\", \"Washington\", \"Wyoming\"\n",
        "    ]\n",
        "}\n",
        "\n",
        "# Transformando o dicionário em um DataFrame\n",
        "data = [(state, region) for region, states in regions.items() for state in states]\n",
        "df = pd.DataFrame(data, columns=[\"State\", \"Region\"])\n",
        "\n",
        "# Salvando como CSV\n",
        "file_path = \"/content/usa_states_by_region.csv\"\n",
        "df.to_csv(file_path, index=False)\n",
        "\n",
        "file_path\n"
      ],
      "metadata": {
        "colab": {
          "base_uri": "https://localhost:8080/",
          "height": 35
        },
        "id": "diU7YPkYw74O",
        "outputId": "774b4c02-14f3-4869-fbbc-1c359b61d98a"
      },
      "execution_count": null,
      "outputs": [
        {
          "output_type": "execute_result",
          "data": {
            "text/plain": [
              "'/content/usa_states_by_region.csv'"
            ],
            "application/vnd.google.colaboratory.intrinsic+json": {
              "type": "string"
            }
          },
          "metadata": {},
          "execution_count": 1
        }
      ]
    }
  ]
}